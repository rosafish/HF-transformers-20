{
 "cells": [
  {
   "cell_type": "code",
   "execution_count": 1,
   "metadata": {},
   "outputs": [],
   "source": [
    "from nltk.tokenize import word_tokenize\n",
    "import csv\n",
    "from nltk.translate.bleu_score import sentence_bleu, corpus_bleu\n",
    "from statistics import mean"
   ]
  },
  {
   "cell_type": "code",
   "execution_count": 2,
   "metadata": {},
   "outputs": [
    {
     "name": "stderr",
     "output_type": "stream",
     "text": [
      "/data/anaconda3/envs/rosa/lib/python3.7/site-packages/nltk/translate/bleu_score.py:523: UserWarning: \n",
      "The hypothesis contains 0 counts of 3-gram overlaps.\n",
      "Therefore the BLEU score evaluates to 0, independently of\n",
      "how many N-gram overlaps of lower order it contains.\n",
      "Consider using lower n-gram order or use SmoothingFunction()\n",
      "  warnings.warn(_msg)\n",
      "/data/anaconda3/envs/rosa/lib/python3.7/site-packages/nltk/translate/bleu_score.py:523: UserWarning: \n",
      "The hypothesis contains 0 counts of 4-gram overlaps.\n",
      "Therefore the BLEU score evaluates to 0, independently of\n",
      "how many N-gram overlaps of lower order it contains.\n",
      "Consider using lower n-gram order or use SmoothingFunction()\n",
      "  warnings.warn(_msg)\n",
      "/data/anaconda3/envs/rosa/lib/python3.7/site-packages/nltk/translate/bleu_score.py:523: UserWarning: \n",
      "The hypothesis contains 0 counts of 2-gram overlaps.\n",
      "Therefore the BLEU score evaluates to 0, independently of\n",
      "how many N-gram overlaps of lower order it contains.\n",
      "Consider using lower n-gram order or use SmoothingFunction()\n",
      "  warnings.warn(_msg)\n"
     ]
    }
   ],
   "source": [
    "# dev: ./sanity-checks/esnli_dev.csv\n",
    "# test: /data/rosa/data/esnli/esnli_test.csv\n",
    "bleu_scores_expl1 = []\n",
    "bleu_scores_expl2 = []\n",
    "bleu_scores_expl3 = []\n",
    "with open('/data/rosa/data/esnli/esnli_test.csv', newline='') as f:\n",
    "    reader = csv.reader(f)\n",
    "    for (i, line) in enumerate(reader):\n",
    "        if i == 0:\n",
    "            continue\n",
    "        # use Oana's tokenizer\n",
    "        gold_expl_1 = word_tokenize(line[4])\n",
    "        gold_expl_2 = word_tokenize(line[9])\n",
    "        gold_expl_3 = word_tokenize(line[14])\n",
    "\n",
    "        bleu_scores_expl1.append(corpus_bleu([[gold_expl_2, gold_expl_3]], [gold_expl_1]))\n",
    "        bleu_scores_expl2.append(corpus_bleu([[gold_expl_1, gold_expl_3]], [gold_expl_2]))\n",
    "        bleu_scores_expl3.append(corpus_bleu([[gold_expl_1, gold_expl_2]], [gold_expl_3]))"
   ]
  },
  {
   "cell_type": "code",
   "execution_count": 3,
   "metadata": {},
   "outputs": [
    {
     "name": "stdout",
     "output_type": "stream",
     "text": [
      "0.1318049540655917\n",
      "0.1324703801626844\n",
      "0.13323389916331937\n"
     ]
    }
   ],
   "source": [
    "print(mean(bleu_scores_expl1))\n",
    "print(mean(bleu_scores_expl2))\n",
    "print(mean(bleu_scores_expl3))"
   ]
  },
  {
   "cell_type": "code",
   "execution_count": null,
   "metadata": {
    "collapsed": true
   },
   "outputs": [],
   "source": []
  }
 ],
 "metadata": {
  "kernelspec": {
   "display_name": "Python 3",
   "language": "python",
   "name": "python3"
  },
  "language_info": {
   "codemirror_mode": {
    "name": "ipython",
    "version": 3
   },
   "file_extension": ".py",
   "mimetype": "text/x-python",
   "name": "python",
   "nbconvert_exporter": "python",
   "pygments_lexer": "ipython3",
   "version": "3.7.3"
  }
 },
 "nbformat": 4,
 "nbformat_minor": 4
}
