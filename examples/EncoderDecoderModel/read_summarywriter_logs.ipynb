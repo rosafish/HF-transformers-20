{
 "cells": [
  {
   "cell_type": "code",
   "execution_count": 12,
   "metadata": {},
   "outputs": [
    {
     "name": "stdout",
     "output_type": "stream",
     "text": [
      "{'images': [], 'audio': [], 'histograms': [], 'scalars': ['loss', 'learning_rate', 'epoch'], 'distributions': [], 'tensors': ['args/text_summary'], 'graph': False, 'meta_graph': False, 'run_metadata': []}\n"
     ]
    }
   ],
   "source": [
    "from tensorboard.backend.event_processing.event_accumulator import EventAccumulator\n",
    "event_acc = EventAccumulator('./logs/')\n",
    "event_acc.Reload()\n",
    "# Show all tags in the log file\n",
    "print(event_acc.Tags())\n",
    "\n",
    "# E. g. get wall clock, number of steps and value for a scalar 'Accuracy'\n",
    "#w_times, step_nums, vals = zip(*event_acc.Scalars('Accuracy'))"
   ]
  },
  {
   "cell_type": "code",
   "execution_count": 13,
   "metadata": {},
   "outputs": [
    {
     "data": {
      "text/plain": [
       "['args/text_summary']"
      ]
     },
     "execution_count": 13,
     "metadata": {},
     "output_type": "execute_result"
    }
   ],
   "source": [
    "event_acc.Tags()['tensors']"
   ]
  },
  {
   "cell_type": "code",
   "execution_count": 14,
   "metadata": {},
   "outputs": [],
   "source": [
    "import pandas as pd"
   ]
  },
  {
   "cell_type": "code",
   "execution_count": 15,
   "metadata": {},
   "outputs": [],
   "source": [
    "import tensorflow as tf"
   ]
  },
  {
   "cell_type": "code",
   "execution_count": 16,
   "metadata": {},
   "outputs": [],
   "source": [
    "df = pd.DataFrame([(w, s, tf.make_ndarray(t)) for w, s, t in event_acc.Tensors('args/text_summary')],\n",
    "             columns=['wall_time', 'step', 'tensor'])"
   ]
  },
  {
   "cell_type": "code",
   "execution_count": 18,
   "metadata": {},
   "outputs": [
    {
     "data": {
      "text/html": [
       "<div>\n",
       "<style scoped>\n",
       "    .dataframe tbody tr th:only-of-type {\n",
       "        vertical-align: middle;\n",
       "    }\n",
       "\n",
       "    .dataframe tbody tr th {\n",
       "        vertical-align: top;\n",
       "    }\n",
       "\n",
       "    .dataframe thead th {\n",
       "        text-align: right;\n",
       "    }\n",
       "</style>\n",
       "<table border=\"1\" class=\"dataframe\">\n",
       "  <thead>\n",
       "    <tr style=\"text-align: right;\">\n",
       "      <th></th>\n",
       "      <th>wall_time</th>\n",
       "      <th>step</th>\n",
       "      <th>tensor</th>\n",
       "    </tr>\n",
       "  </thead>\n",
       "  <tbody>\n",
       "    <tr>\n",
       "      <th>0</th>\n",
       "      <td>1.596163e+09</td>\n",
       "      <td>0</td>\n",
       "      <td>[b'{\\n  \"output_dir\": \"./results\",\\n  \"overwri...</td>\n",
       "    </tr>\n",
       "  </tbody>\n",
       "</table>\n",
       "</div>"
      ],
      "text/plain": [
       "      wall_time  step                                             tensor\n",
       "0  1.596163e+09     0  [b'{\\n  \"output_dir\": \"./results\",\\n  \"overwri..."
      ]
     },
     "execution_count": 18,
     "metadata": {},
     "output_type": "execute_result"
    }
   ],
   "source": [
    "df"
   ]
  },
  {
   "cell_type": "code",
   "execution_count": 17,
   "metadata": {},
   "outputs": [
    {
     "data": {
      "text/plain": [
       "array([b'{\\n  \"output_dir\": \"./results\",\\n  \"overwrite_output_dir\": false,\\n  \"do_train\": false,\\n  \"do_eval\": false,\\n  \"do_predict\": false,\\n  \"evaluate_during_training\": false,\\n  \"per_device_train_batch_size\": 8,\\n  \"per_device_eval_batch_size\": 8,\\n  \"per_gpu_train_batch_size\": null,\\n  \"per_gpu_eval_batch_size\": null,\\n  \"gradient_accumulation_steps\": 1,\\n  \"learning_rate\": 5e-05,\\n  \"weight_decay\": 0.01,\\n  \"adam_epsilon\": 1e-08,\\n  \"max_grad_norm\": 1.0,\\n  \"num_train_epochs\": 3,\\n  \"max_steps\": -1,\\n  \"warmup_steps\": 500,\\n  \"logging_dir\": \"./logs\",\\n  \"logging_first_step\": false,\\n  \"logging_steps\": 500,\\n  \"save_steps\": 500,\\n  \"save_total_limit\": null,\\n  \"no_cuda\": false,\\n  \"seed\": 42,\\n  \"fp16\": false,\\n  \"fp16_opt_level\": \"O1\",\\n  \"local_rank\": -1,\\n  \"tpu_num_cores\": null,\\n  \"tpu_metrics_debug\": false,\\n  \"debug\": false,\\n  \"dataloader_drop_last\": false,\\n  \"eval_steps\": 1000,\\n  \"past_index\": -1\\n}'],\n",
       "      dtype=object)"
      ]
     },
     "execution_count": 17,
     "metadata": {},
     "output_type": "execute_result"
    }
   ],
   "source": [
    "df[df.columns[-1]][0]"
   ]
  },
  {
   "cell_type": "code",
   "execution_count": null,
   "metadata": {},
   "outputs": [],
   "source": []
  }
 ],
 "metadata": {
  "kernelspec": {
   "display_name": "Python 3",
   "language": "python",
   "name": "python3"
  },
  "language_info": {
   "codemirror_mode": {
    "name": "ipython",
    "version": 3
   },
   "file_extension": ".py",
   "mimetype": "text/x-python",
   "name": "python",
   "nbconvert_exporter": "python",
   "pygments_lexer": "ipython3",
   "version": "3.7.3"
  }
 },
 "nbformat": 4,
 "nbformat_minor": 4
}
