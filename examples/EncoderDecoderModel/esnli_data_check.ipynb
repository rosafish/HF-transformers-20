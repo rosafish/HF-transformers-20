{
 "cells": [
  {
   "cell_type": "code",
   "execution_count": 4,
   "metadata": {
    "collapsed": true
   },
   "outputs": [],
   "source": [
    "import csv\n",
    "import json\n",
    "import sys"
   ]
  },
  {
   "cell_type": "code",
   "execution_count": 7,
   "metadata": {
    "collapsed": true
   },
   "outputs": [],
   "source": [
    "data_type = ['train', 'dev', 'test']\n",
    "d = data_type[0]"
   ]
  },
  {
   "cell_type": "code",
   "execution_count": 12,
   "metadata": {},
   "outputs": [],
   "source": [
    "# compare esnli data with snli\n",
    "esnli_path = '/data/rosa/data/esnli/esnli_%s.csv' % d\n",
    "snli_path = '/data/rosa/data/SNLI/%s.jsonl' % d"
   ]
  },
  {
   "cell_type": "code",
   "execution_count": 18,
   "metadata": {
    "collapsed": true
   },
   "outputs": [],
   "source": [
    "esnli_pair_ids = []\n",
    "snli_pair_ids = []"
   ]
  },
  {
   "cell_type": "code",
   "execution_count": 21,
   "metadata": {},
   "outputs": [],
   "source": [
    "with open(snli_path, 'r', encoding=\"utf-8-sig\") as f:\n",
    "    for fline in f:\n",
    "        label = json.loads(fline)['gold_label']\n",
    "        if label != '-':\n",
    "            pair_id = json.loads(fline)['pairID']\n",
    "            snli_pair_ids.append(pair_id)\n",
    "# with open(esnli_path, \"r\") as f:\n",
    "#     reader = csv.reader(f, delimiter=\",\")\n",
    "#     for line in reader:\n",
    "#         line = list(line)\n",
    "#         pair_id = line[0]\n",
    "#         esnli_pair_ids.append(pair_id)\n",
    "with open(esnli_path, newline='') as f:\n",
    "    reader = csv.reader(f)\n",
    "    for line in reader:\n",
    "        line = list(line)\n",
    "        pair_id = line[0]\n",
    "        esnli_pair_ids.append(pair_id)"
   ]
  },
  {
   "cell_type": "code",
   "execution_count": 23,
   "metadata": {},
   "outputs": [
    {
     "name": "stdout",
     "output_type": "stream",
     "text": [
      "549367\n",
      "549368\n"
     ]
    }
   ],
   "source": [
    "print(len(snli_pair_ids))\n",
    "print(len(esnli_pair_ids)) # differ by 1 because esnli has the header line"
   ]
  },
  {
   "cell_type": "code",
   "execution_count": 25,
   "metadata": {},
   "outputs": [],
   "source": [
    "s_dict = {} #k: pid, v: (label, s1, s2)\n",
    "with open(snli_path, 'r', encoding=\"utf-8-sig\") as f:\n",
    "    for fline in f:\n",
    "        label = json.loads(fline)['gold_label']\n",
    "        if label != '-':\n",
    "            pair_id = json.loads(fline)['pairID']\n",
    "            s1 = json.loads(fline)['sentence1']\n",
    "            s2 = json.loads(fline)['sentence2']\n",
    "            s_dict[pair_id] = (label, s1, s2)"
   ]
  },
  {
   "cell_type": "code",
   "execution_count": 26,
   "metadata": {},
   "outputs": [
    {
     "name": "stdout",
     "output_type": "stream",
     "text": [
      "umm\n",
      "gold_label\n"
     ]
    }
   ],
   "source": [
    "e_dict = {} #k: pid, v: (label, s1, s2)\n",
    "with open(esnli_path, \"r\") as f:\n",
    "    reader = csv.reader(f, delimiter=\",\")\n",
    "    for line in reader:\n",
    "        line = list(line)\n",
    "        pair_id = line[0]\n",
    "        label = line[1]\n",
    "        if label not in ['entailment','contradiction','neutral']:\n",
    "            print('umm')\n",
    "            print(label)\n",
    "        s1 = line[2]\n",
    "        s2 = line[3]\n",
    "        e_dict[pair_id] = (label, s1, s2)"
   ]
  },
  {
   "cell_type": "code",
   "execution_count": 27,
   "metadata": {},
   "outputs": [
    {
     "data": {
      "text/plain": [
       "('gold_label', 'Sentence1', 'Sentence2')"
      ]
     },
     "execution_count": 27,
     "metadata": {},
     "output_type": "execute_result"
    }
   ],
   "source": [
    "e_dict.pop('pairID')"
   ]
  },
  {
   "cell_type": "code",
   "execution_count": 28,
   "metadata": {
    "collapsed": true
   },
   "outputs": [],
   "source": [
    "for eid in e_dict.keys():\n",
    "    ev = e_dict[eid]\n",
    "    sv = s_dict[eid]\n",
    "    if ev[0] != sv[0] or ev[1] != sv[1] or ev[2] != sv[2]:\n",
    "        print('***')\n",
    "        print(ev)\n",
    "        print(sv)"
   ]
  },
  {
   "cell_type": "code",
   "execution_count": 29,
   "metadata": {},
   "outputs": [
    {
     "name": "stdout",
     "output_type": "stream",
     "text": [
      "549367\n",
      "549367\n"
     ]
    }
   ],
   "source": [
    "print(len(e_dict))\n",
    "print(len(s_dict))"
   ]
  },
  {
   "cell_type": "code",
   "execution_count": null,
   "metadata": {
    "collapsed": true
   },
   "outputs": [],
   "source": []
  }
 ],
 "metadata": {
  "kernelspec": {
   "display_name": "rosa",
   "language": "python",
   "name": "rosa"
  },
  "language_info": {
   "codemirror_mode": {
    "name": "ipython",
    "version": 3
   },
   "file_extension": ".py",
   "mimetype": "text/x-python",
   "name": "python",
   "nbconvert_exporter": "python",
   "pygments_lexer": "ipython3",
   "version": "3.7.3"
  }
 },
 "nbformat": 4,
 "nbformat_minor": 2
}
