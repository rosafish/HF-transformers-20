{
 "cells": [
  {
   "cell_type": "markdown",
   "metadata": {},
   "source": [
    "### Combine the bert generated expl, oana generated expl, and the original esnli_dev set together"
   ]
  },
  {
   "cell_type": "code",
   "execution_count": null,
   "metadata": {},
   "outputs": [],
   "source": [
    "import sys\n",
    "sys.path.append('/data/rosa/my_github/expl-discourse/')\n",
    "from sample_generated_expl import load_gold_expl, load_oana_expl, load_bert_expl\n",
    "sys.path.append('/data/rosa/my_github/misinformation/code')\n",
    "from myTools import write_csv"
   ]
  },
  {
   "cell_type": "code",
   "execution_count": 2,
   "metadata": {},
   "outputs": [
    {
     "name": "stdout",
     "output_type": "stream",
     "text": [
      "loading gold explanations... \n",
      "\n",
      "loading oana explanations... \n",
      "\n",
      "loading bert explanations... \n",
      "\n"
     ]
    }
   ],
   "source": [
    "gold_expl_path = '/data/rosa/data/esnli/esnli_dev.csv'\n",
    "oana_expl_path = '/data/rosa/my_github/e-SNLI/attention/snli_etp_attention_dev_expl.csv'\n",
    "bert_expl_path = '/data/rosa/HF-transformers-20/examples/EncoderDecoderModel/esnli_train_results/eval_on_dev_generated_expl_text.csv'\n",
    "    \n",
    "gold_expl_data = load_gold_expl(gold_expl_path)\n",
    "oana_expl_data = load_oana_expl(oana_expl_path)\n",
    "bert_expl_data = load_bert_expl(bert_expl_path)"
   ]
  },
  {
   "cell_type": "code",
   "execution_count": 3,
   "metadata": {},
   "outputs": [],
   "source": [
    "output_csv_path = './eval_on_dev_generated_expl_text_FULL.csv'"
   ]
  },
  {
   "cell_type": "code",
   "execution_count": 4,
   "metadata": {},
   "outputs": [],
   "source": [
    "fieldnames = ['label', 'premise', 'hypothesis', 'expl1', 'expl2', 'expl3', 'oana_expl', 'bert_expl']\n",
    "data = []\n",
    "\n",
    "for i in range(len(gold_expl_data['label'])):\n",
    "    row = [gold_expl_data['label'][i],\n",
    "           gold_expl_data['p'][i],\n",
    "           gold_expl_data['h'][i],\n",
    "           gold_expl_data['expl1'][i],\n",
    "           gold_expl_data['expl2'][i],\n",
    "           gold_expl_data['expl3'][i],\n",
    "           oana_expl_data['pred_expl'][i],\n",
    "           bert_expl_data['pred_expl'][i]]\n",
    "    data.append(row)\n",
    "    \n",
    "write_csv(output_csv_path, data, fieldnames)"
   ]
  },
  {
   "cell_type": "code",
   "execution_count": null,
   "metadata": {},
   "outputs": [],
   "source": []
  }
 ],
 "metadata": {
  "kernelspec": {
   "display_name": "Python [conda env:rosa] *",
   "language": "python",
   "name": "conda-env-rosa-py"
  },
  "language_info": {
   "codemirror_mode": {
    "name": "ipython",
    "version": 3
   },
   "file_extension": ".py",
   "mimetype": "text/x-python",
   "name": "python",
   "nbconvert_exporter": "python",
   "pygments_lexer": "ipython3",
   "version": "3.7.3"
  }
 },
 "nbformat": 4,
 "nbformat_minor": 4
}
